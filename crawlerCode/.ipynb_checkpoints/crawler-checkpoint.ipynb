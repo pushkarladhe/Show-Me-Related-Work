{
 "cells": [
  {
   "cell_type": "code",
   "execution_count": 1,
   "metadata": {
    "collapsed": true
   },
   "outputs": [],
   "source": [
    "from bs4 import BeautifulSoup\n",
    "\n",
    "import requests\n",
    "\n",
    "r  = requests.get(\"https://www.sciencedirect.com/search?qs=machine+learning&authors=&pub=&volume=&issue=&page=&origin=home&zone=qSearch\")\n",
    "\n",
    "data = r.text\n",
    "\n",
    "soup = BeautifulSoup(data, \"lxml\")\n",
    "links_list = list()\n",
    "\n",
    "for link in soup.find_all('a'):\n",
    "    paperLink = link.get('href')\n",
    "    if \"article\" in paperLink:\n",
    "        links_list.append(paperLink)"
   ]
  },
  {
   "cell_type": "code",
   "execution_count": 2,
   "metadata": {},
   "outputs": [
    {
     "name": "stdout",
     "output_type": "stream",
     "text": [
      "https://doi.org/10.1016/j.optcom.2017.09.028\n"
     ]
    }
   ],
   "source": [
    "crawledData = []\n",
    "completeLink = requests.get(\"https://www.sciencedirect.com\" + links_list[0])\n",
    "completeLink_data = completeLink.text\n",
    "paperDoi = \"\"\n",
    "paperTitle = \"\"\n",
    "paperAbstract = \"\"\n",
    "\n",
    "completeLink_soup = BeautifulSoup(completeLink_data, \"lxml\")\n",
    "for completeLink_link in completeLink_soup.find_all('a'):\n",
    "    completeLink_paperLink = completeLink_link.get('href')\n",
    "    if \"https://doi.org\" in completeLink_paperLink:\n",
    "        print(completeLink_paperLink)\n",
    "        paperDoi = completeLink_paperLink"
   ]
  },
  {
   "cell_type": "code",
   "execution_count": 13,
   "metadata": {},
   "outputs": [
    {
     "name": "stdout",
     "output_type": "stream",
     "text": [
      "ScienceDirect\n"
     ]
    }
   ],
   "source": [
    "print(completeLink_soup.span.get_text(strip=True))"
   ]
  },
  {
   "cell_type": "code",
   "execution_count": 17,
   "metadata": {},
   "outputs": [
    {
     "name": "stdout",
     "output_type": "stream",
     "text": [
      "Machine learning enhanced optical distance sensor\n"
     ]
    }
   ],
   "source": [
    "for spandata in completeLink_soup.find_all('span', {\"class\": \"title-text\"}):\n",
    "    something = BeautifulSoup(str(spandata), \"lxml\")\n",
    "    paperTitle = something.span.get_text(strip=True)\n",
    "    print(paperTitle)"
   ]
  },
  {
   "cell_type": "code",
   "execution_count": 18,
   "metadata": {},
   "outputs": [
    {
     "name": "stdout",
     "output_type": "stream",
     "text": [
      "Presented for the first time is a machine learning enhanced optical distance sensor. The distance sensor is based on our previously demonstrated distance measurement technique that uses an Electronically Controlled Variable Focus Lens (ECVFL) with a laser source to illuminate a target plane with a controlled optical beam spot. This spot with varying spot sizes is viewed by an off-axis camera and the spot size data is processed to compute the distance. In particular, proposed and demonstrated in this paper is the use of a regularized polynomial regression based supervised machine learning algorithm to enhance the accuracy of the operational sensor. The algorithm uses the acquired features and corresponding labels that are the actual target distance values to train a machine learning model. The optimized training model is trained over a 1000 mm (or 1 m) experimental target distance range. Using the machine learning algorithm produces a training set and testing set distance measurement errors of <0.8 mm and <2.2 mm, respectively. The test measurement error is at least a factor of 4 improvement over our prior sensor demonstration without the use of machine learning. Applications for the proposed sensor include industrial scenario distance sensing where target material specific training models can be generated to realize low <1% measurement error distance measurements.\n"
     ]
    }
   ],
   "source": [
    "for abstract in completeLink_soup.find_all('p', {\"id\": \"d1e2432\"}):\n",
    "    abstractData = BeautifulSoup(str(abstract), \"lxml\")\n",
    "    print(abstractData.p.get_text(strip=True))"
   ]
  },
  {
   "cell_type": "code",
   "execution_count": null,
   "metadata": {
    "collapsed": true
   },
   "outputs": [],
   "source": []
  }
 ],
 "metadata": {
  "kernelspec": {
   "display_name": "Python 3",
   "language": "python",
   "name": "python3"
  },
  "language_info": {
   "codemirror_mode": {
    "name": "ipython",
    "version": 3
   },
   "file_extension": ".py",
   "mimetype": "text/x-python",
   "name": "python",
   "nbconvert_exporter": "python",
   "pygments_lexer": "ipython3",
   "version": "3.6.3"
  }
 },
 "nbformat": 4,
 "nbformat_minor": 2
}
