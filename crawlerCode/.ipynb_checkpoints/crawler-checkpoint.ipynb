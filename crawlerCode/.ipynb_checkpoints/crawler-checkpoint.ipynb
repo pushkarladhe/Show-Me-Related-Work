{
 "cells": [
  {
   "cell_type": "code",
   "execution_count": 1,
   "metadata": {
    "collapsed": true
   },
   "outputs": [],
   "source": [
    "from bs4 import BeautifulSoup\n",
    "\n",
    "import requests\n",
    "\n",
    "r  = requests.get(\"https://www.sciencedirect.com/search?qs=machine+learning&authors=&pub=&volume=&issue=&page=&origin=home&zone=qSearch\")\n",
    "\n",
    "data = r.text\n",
    "\n",
    "soup = BeautifulSoup(data, \"lxml\")\n",
    "links_list = list()\n",
    "\n",
    "for link in soup.find_all('a'):\n",
    "    paperLink = link.get('href')\n",
    "    if \"article\" in paperLink:\n",
    "        links_list.append(paperLink)"
   ]
  },
  {
   "cell_type": "code",
   "execution_count": 2,
   "metadata": {},
   "outputs": [
    {
     "name": "stdout",
     "output_type": "stream",
     "text": [
      "https://doi.org/10.1016/j.optcom.2017.09.028\n"
     ]
    }
   ],
   "source": [
    "completeLink = requests.get(\"https://www.sciencedirect.com\" + links_list[0])\n",
    "completeLink_data = completeLink.text\n",
    "\n",
    "completeLink_soup = BeautifulSoup(completeLink_data, \"lxml\")\n",
    "for completeLink_link in completeLink_soup.find_all('a'):\n",
    "    completeLink_paperLink = completeLink_link.get('href')\n",
    "    if \"https://doi.org\" in completeLink_paperLink:\n",
    "        print(completeLink_paperLink)"
   ]
  },
  {
   "cell_type": "code",
   "execution_count": 13,
   "metadata": {},
   "outputs": [
    {
     "name": "stdout",
     "output_type": "stream",
     "text": [
      "ScienceDirect\n"
     ]
    }
   ],
   "source": [
    "print(completeLink_soup.span.get_text(strip=True))"
   ]
  },
  {
   "cell_type": "code",
   "execution_count": 17,
   "metadata": {},
   "outputs": [
    {
     "name": "stdout",
     "output_type": "stream",
     "text": [
      "Machine learning enhanced optical distance sensor\n"
     ]
    }
   ],
   "source": [
    "for spandata in completeLink_soup.find_all('span', {\"class\": \"title-text\"}):\n",
    "    something = BeautifulSoup(str(spandata), \"lxml\")\n",
    "    print(something.span.get_text(strip=True))"
   ]
  },
  {
   "cell_type": "code",
   "execution_count": null,
   "metadata": {
    "collapsed": true
   },
   "outputs": [],
   "source": []
  }
 ],
 "metadata": {
  "kernelspec": {
   "display_name": "Python 3",
   "language": "python",
   "name": "python3"
  },
  "language_info": {
   "codemirror_mode": {
    "name": "ipython",
    "version": 3
   },
   "file_extension": ".py",
   "mimetype": "text/x-python",
   "name": "python",
   "nbconvert_exporter": "python",
   "pygments_lexer": "ipython3",
   "version": "3.6.3"
  }
 },
 "nbformat": 4,
 "nbformat_minor": 2
}
