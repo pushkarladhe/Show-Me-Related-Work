{
 "cells": [
  {
   "cell_type": "code",
   "execution_count": 57,
   "metadata": {},
   "outputs": [
    {
     "name": "stdout",
     "output_type": "stream",
     "text": [
      "\n",
      "var body_rightsLink =\"\", body_publisher = \"\";\n",
      "var recordId = \"\";\n",
      "\n",
      "var global = {\n",
      "\tdocument: {\n",
      "\t\tdisqus:{\n",
      "\t\t\tremote_auth_s3 : 'KHt9KQ== eba4609dce5c1dbafafbd306802f7621a648385f 1517620989',\n",
      "\t\t\tpublic_api_key:'1lxKgMbpNIbQvfk2tqLcWeSVloE8rgIY2CV1tCu3Vp641oL4eEITYBbkViJJGNYY',\n",
      "\t\t\tshort_name:'ieeexplore',\n",
      "\t\t\tclient_url:'http://ieeexplore.ieee.org',\n",
      "\t\t\tsso_enabled:'{$sessionProfile.provisioned}'\n",
      "\t\t},\n",
      "\n",
      "\t\tfullTextAccess: true,\n",
      "\t\tisAccessFromInstitution: true\n",
      "\t\t\n",
      "\t}\n",
      "};\n",
      "\t\n",
      "\tglobal.document.metadata={\"userInfo\":{\"institute\":true,\"member\":false,\"individual\":false,\"guest\":false,\"subscribedContent\":false,\"fileCabinetContent\":false,\"fileCabinetUser\":false,\"institutionalFileCabinetUser\":false,\"products\":\"EBOOKS:1872:2013|IEL|IBM|VDE|NOKIA BELL LABS|\",\"instType\":\"Academic\",\"userIds\":[4895],\"showPatentCitations\":true,\"showGet802Link\":true,\"openUrlImgLoc\":\"http://lib.asu.edu/files/images/icons/asu-sfx.gif\",\"openUrlLink\":\"http://pl8cg5fc8w.search.serialssolutions.com\",\"showOpenUrlLink\":true},\"authors\":[{\"name\":\"Biplab Ketan Chakraborty\",\"affiliation\":\"IIT Guwahati 781039, India\",\"affiliation\":\"IIT Guwahati 781039, India\"},{\"name\":\"Debajit Sarma\",\"affiliation\":\"IIT Guwahati 781039, India\",\"affiliation\":\"IIT Guwahati 781039, India\"},{\"name\":\"M.K. Bhuyan\",\"affiliation\":\"IIT Guwahati 781039, India\",\"affiliation\":\"IIT Guwahati 781039, India\"},{\"name\":\"Karl F MacDorman\",\"affiliation\":\"Indiana University School of Informatics and Computing, USA\",\"affiliation\":\"Indiana University School of Informatics and Computing, USA\"}],\"issn\":[{\"format\":\"Print ISSN\",\"value\":\"1751-9632\"},{\"format\":\"Electronic ISSN\",\"value\":\"1751-9640\"}],\"articleNumber\":\"8268688\",\"dbTime\":\"3 ms\",\"backToResultsLink\":\"/search/searchresult.jsp?contentType=ALL&queryText=Mechanical Engineering\",\"metrics\":{\"citationCountPaper\":0,\"citationCountPatent\":0,\"totalDownloads\":0},\"sponsors\":[{\"packageNumber\":0,\"name\":\"Institution of Engineering and Technology\",\"url\":\"http://www.theiet.org/\"}],\"pdfUrl\":\"/stamp/stamp.jsp?tp=&arnumber=8268688\",\"purchaseOptions\":{\"showOtherFormatPricingTab\":false,\"showPdfFormatPricingTab\":true,\"pdfPricingInfoAvailable\":true,\"otherPricingInfoAvailable\":false,\"mandatoryBundle\":false,\"optionalBundle\":false,\"pdfPricingInfo\":[{\"memberPrice\":\"$33.00\",\"nonMemberPrice\":\"$33.00\",\"partNumber\":\"8268688\",\"type\":\"PDF\"}],\"openUrlFullLink\":\"http://pl8cg5fc8w.search.serialssolutions.com?url_ver=Z39.88-2004&rfr_id=info:sid/IEEE.org:XPLORE&rft_id=info:doi/10.1049/iet-cvi.2017.0052&url_ctx_fmt=info:ofi/fmt:kev:mtx:ctx&rft_val_fmt=info:ofi/fmt:kev:mtx:journal&rft.atitle=Review of constraints on vision-based gesture recognition for humanâ€“computer interaction&rft.jtitle=IET Computer Vision&rft.date=2018&rft.volume=12&rft.issue=1&rft.spage=3&rft.epage=15&rft.issn=1751-9632&rft.eissn=1751-9640&rft.au=Biplab Ketan Chakraborty&rft.aulast=Biplab Ketan Chakraborty\"},\"formulaStrippedArticleTitle\":\"Review of constraints on vision-based gesture recognition for humanâ€“computer interaction\",\"getProgramTermsAccepted\":false,\"publicationTitle\":\"IET Computer Vision\",\"endPage\":\"15\",\"startPage\":\"3\",\"doi\":\"10.1049/iet-cvi.2017.0052\",\"title\":\"Review of constraints on vision-based gesture recognition for humanâ€“computer interaction\",\"abstract\":\"The ability of computers to recognise hand gestures visually is essential for progress in human&#x2013;computer interaction. Gesture recognition has applications ranging from sign language to medical assistance to virtual reality. However, gesture recognition is extremely challenging not only because of its diverse contexts, multiple interpretations, and spatio-temporal variations but also because of the complex non-rigid properties of the hand. This study surveys major constraints on vision-based gesture recognition occurring in detection and pre-processing, representation and feature extraction, and recognition. Current challenges are explored in detail.\",\"keywords\":[{\"type\":\"INSPEC: Controlled Indexing\",\"kwd\":[\"gesture recognition\",\"man-machine systems\",\"feature extraction\"]},{\"type\":\"INSPEC: Non-Controlled Indexing\",\"kwd\":[\"vision-based gesture recognition\",\"human-computer interaction\",\"hand gesture recognition\",\"sign language\",\"medical assistance\",\"virtual reality\",\"diverse contexts\",\"multiple interpretations\",\"spatio-temporal variations\",\"complex nonrigid properties\",\"feature extraction\",\"feature recognition\"]}],\"allowComments\":false,\"pubLink\":\"/xpl/RecentIssue.jsp?punumber=4159597\",\"issueLink\":\"/xpl/tocresult.jsp?isnumber=8268682\",\"standardTitle\":\"Review of constraints on vision-based gesture recognition for humanâ€“computer interaction\",\"pdfPath\":\"/iel7/4159597/8268682/08268688.pdf\",\"rightsLink\":\"http://s100.copyright.com/AppDispatchServlet?publisherName=ieee&publication=1751-9632&title=Review+of+constraints+on+vision-based+gesture+recognition+for+human%E2%80%93computer+interaction&isbn=&publicationDate=2+2018&author=Biplab+Ketan+Chakraborty&ContentID=10.1049/iet-cvi.2017.0052&orderBeanReset=true&startPage=3&endPage=15&volumeNum=12&issueNum=1\",\"displayPublicationTitle\":\"IET Computer Vision\",\"isJournal\":true,\"isConference\":false,\"dateOfInsertion\":\"25 January 2018\",\"isGetArticle\":false,\"isGetAddressInfoCaptured\":false,\"isMarketingOptIn\":false,\"xploreDocumentType\":\"Journals & Magazine\",\"applyOUPFilter\":false,\"publicationDate\":\"2 2018\",\"conferenceDate\":\" \",\"isACM\":false,\"volume\":\"12\",\"issue\":\"1\",\"isStandard\":false,\"publisher\":\"IET\",\"isOUP\":false,\"isDynamicHtml\":false,\"isFreeDocument\":false,\"isSMPTE\":false,\"isCustomDenial\":false,\"persistentLink\":\"http://ieeexplore.ieee.org/servlet/opac?punumber=4159597\",\"isStaticHtml\":false,\"isNotDynamicOrStatic\":true,\"htmlAbstractLink\":\"/document/8268688/\",\"isPromo\":false,\"journalDisplayDateOfPublication\":\"25 January 2018\",\"chronOrPublicationDate\":\"2  2018\",\"isEphemera\":false,\"isOpenAccess\":false,\"isEarlyAccess\":false,\"isBook\":false,\"startPage\":\"3\",\"openAccessFlag\":\"no\",\"ephemeraFlag\":\"false\",\"title\":\"Review of constraints on vision-based gesture recognition for humanâ€“computer interaction\",\"confLoc\":\"\",\"accessionNumber\":\"\",\"ml_html_flag\":\"false\",\"html_flag\":\"false\",\"content_type\":\"Journals & Magazines\",\"mlTime\":\"PT0.17449S\",\"chronDate\":\"2  2018\",\"pdfPath\":\"/iel7/4159597/8268682/08268688.pdf\",\"isNumber\":\"8268682\",\"copyrightYear\":\"2007-2012\",\"dateOfInsertion\":\"25 January 2018\",\"contentType\":\"periodicals\",\"publicationDate\":\"2 2018\",\"publicationNumber\":\"4159597\",\"citationCount\":\"0\",\"copyrightOwner\":\"IET\",\"issue\":\"1\",\"articleId\":\"8268688\",\"publicationTitle\":\"IET Computer Vision\",\"sections\":{\"abstract\":\"true\",\"authors\":\"true\",\"figures\":\"false\",\"multimedia\":\"false\",\"references\":\"false\",\"citedby\":\"\",\"keywords\":\"true\",\"algorithm\":\"false\",\"supplements\":\"false\",\"footnotes\":\"false\",\"disclaimer\":\"false\"},\"volume\":\"12\",\"onlineDate\":\"\",\"conferenceDate\":\" \",\"publisher\":\"IET\",\"publicationYear\":\"2018\",\"subType\":\"IET IEE Periodical\",\"lastupdate\":\"2018-02-02T11:44:59\",\"mediaPath\":\"/mediastore/IEEE/content/media/4159597/8268682/8268688\",\"endPage\":\"15\",\"doi\":\"10.1049/iet-cvi.2017.0052\"};\n",
      "\n",
      "\n",
      "\tglobal.document.userLoggedIn=true;\n",
      "\n",
      "\n",
      "\n",
      "\n",
      "\n",
      "\n",
      "\n",
      "\n"
     ]
    }
   ],
   "source": [
    "from bs4 import BeautifulSoup\n",
    "\n",
    "import requests\n",
    "\n",
    "soup = BeautifulSoup(open(\"C:\\\\Users\\\\rajat\\\\Desktop\\\\ASU\\\\Sem4\\\\SER518\\\\crawlerCode\\\\sample.html\"), \"html.parser\")\n",
    "\n",
    "data = soup.find_all('script')[27].string\n",
    "\n",
    "print(data)"
   ]
  },
  {
   "cell_type": "code",
   "execution_count": 58,
   "metadata": {},
   "outputs": [
    {
     "name": "stdout",
     "output_type": "stream",
     "text": [
      "['\"userInfo\":{\"institute\":true,\"member\":false,\"individual\":false,\"guest\":false,\"subscribedContent\":false,\"fileCabinetContent\":false,\"fileCabinetUser\":false,\"institutionalFileCabinetUser\":false,\"products\":\"EBOOKS:1872:2013|IEL|IBM|VDE|NOKIA BELL LABS|\",\"instType\":\"Academic\",\"userIds\":[4895],\"showPatentCitations\":true,\"showGet802Link\":true,\"openUrlImgLoc\":\"http://lib.asu.edu/files/images/icons/asu-sfx.gif\",\"openUrlLink\":\"http://pl8cg5fc8w.search.serialssolutions.com\",\"showOpenUrlLink\":true},\"authors\":[{\"name\":\"Biplab Ketan Chakraborty\",\"affiliation\":\"IIT Guwahati 781039, India\",\"affiliation\":\"IIT Guwahati 781039, India\"},{\"name\":\"Debajit Sarma\",\"affiliation\":\"IIT Guwahati 781039, India\",\"affiliation\":\"IIT Guwahati 781039, India\"},{\"name\":\"M.K. Bhuyan\",\"affiliation\":\"IIT Guwahati 781039, India\",\"affiliation\":\"IIT Guwahati 781039, India\"},{\"name\":\"Karl F MacDorman\",\"affiliation\":\"Indiana University School of Informatics and Computing, USA\",\"affiliation\":\"Indiana University School of Informatics and Computing, USA\"}],\"issn\":[{\"format\":\"Print ISSN\",\"value\":\"1751-9632\"},{\"format\":\"Electronic ISSN\",\"value\":\"1751-9640\"}],\"articleNumber\":\"8268688\",\"dbTime\":\"3 ms\",\"backToResultsLink\":\"/search/searchresult.jsp?contentType=ALL&queryText=Mechanical Engineering\",\"metrics\":{\"citationCountPaper\":0,\"citationCountPatent\":0,\"totalDownloads\":0},\"sponsors\":[{\"packageNumber\":0,\"name\":\"Institution of Engineering and Technology\",\"url\":\"http://www.theiet.org/\"}],\"pdfUrl\":\"/stamp/stamp.jsp?tp=&arnumber=8268688\",\"purchaseOptions\":{\"showOtherFormatPricingTab\":false,\"showPdfFormatPricingTab\":true,\"pdfPricingInfoAvailable\":true,\"otherPricingInfoAvailable\":false,\"mandatoryBundle\":false,\"optionalBundle\":false,\"pdfPricingInfo\":[{\"memberPrice\":\"$33.00\",\"nonMemberPrice\":\"$33.00\",\"partNumber\":\"8268688\",\"type\":\"PDF\"}],\"openUrlFullLink\":\"http://pl8cg5fc8w.search.serialssolutions.com?url_ver=Z39.88-2004&rfr_id=info:sid/IEEE.org:XPLORE&rft_id=info:doi/10.1049/iet-cvi.2017.0052&url_ctx_fmt=info:ofi/fmt:kev:mtx:ctx&rft_val_fmt=info:ofi/fmt:kev:mtx:journal&rft.atitle=Review of constraints on vision-based gesture recognition for humanâ€“computer interaction&rft.jtitle=IET Computer Vision&rft.date=2018&rft.volume=12&rft.issue=1&rft.spage=3&rft.epage=15&rft.issn=1751-9632&rft.eissn=1751-9640&rft.au=Biplab Ketan Chakraborty&rft.aulast=Biplab Ketan Chakraborty\"},\"formulaStrippedArticleTitle\":\"Review of constraints on vision-based gesture recognition for humanâ€“computer interaction\",\"getProgramTermsAccepted\":false,\"publicationTitle\":\"IET Computer Vision\",\"endPage\":\"15\",\"startPage\":\"3\",\"doi\":\"10.1049/iet-cvi.2017.0052\",\"title\":\"Review of constraints on vision-based gesture recognition for humanâ€“computer interaction\",\"abstract\":\"The ability of computers to recognise hand gestures visually is essential for progress in human&#x2013;computer interaction. Gesture recognition has applications ranging from sign language to medical assistance to virtual reality. However, gesture recognition is extremely challenging not only because of its diverse contexts, multiple interpretations, and spatio-temporal variations but also because of the complex non-rigid properties of the hand. This study surveys major constraints on vision-based gesture recognition occurring in detection and pre-processing, representation and feature extraction, and recognition. Current challenges are explored in detail.\",\"keywords\":[{\"type\":\"INSPEC: Controlled Indexing\",\"kwd\":[\"gesture recognition\",\"man-machine systems\",\"feature extraction\"]},{\"type\":\"INSPEC: Non-Controlled Indexing\",\"kwd\":[\"vision-based gesture recognition\",\"human-computer interaction\",\"hand gesture recognition\",\"sign language\",\"medical assistance\",\"virtual reality\",\"diverse contexts\",\"multiple interpretations\",\"spatio-temporal variations\",\"complex nonrigid properties\",\"feature extraction\",\"feature recognition\"]}],\"allowComments\":false,\"pubLink\":\"/xpl/RecentIssue.jsp?punumber=4159597\",\"issueLink\":\"/xpl/tocresult.jsp?isnumber=8268682\",\"standardTitle\":\"Review of constraints on vision-based gesture recognition for humanâ€“computer interaction\",\"pdfPath\":\"/iel7/4159597/8268682/08268688.pdf\",\"rightsLink\":\"http://s100.copyright.com/AppDispatchServlet?publisherName=ieee&publication=1751-9632&title=Review+of+constraints+on+vision-based+gesture+recognition+for+human%E2%80%93computer+interaction&isbn=&publicationDate=2+2018&author=Biplab+Ketan+Chakraborty&ContentID=10.1049/iet-cvi.2017.0052&orderBeanReset=true&startPage=3&endPage=15&volumeNum=12&issueNum=1\",\"displayPublicationTitle\":\"IET Computer Vision\",\"isJournal\":true,\"isConference\":false,\"dateOfInsertion\":\"25 January 2018\",\"isGetArticle\":false,\"isGetAddressInfoCaptured\":false,\"isMarketingOptIn\":false,\"xploreDocumentType\":\"Journals & Magazine\",\"applyOUPFilter\":false,\"publicationDate\":\"2 2018\",\"conferenceDate\":\" \",\"isACM\":false,\"volume\":\"12\",\"issue\":\"1\",\"isStandard\":false,\"publisher\":\"IET\",\"isOUP\":false,\"isDynamicHtml\":false,\"isFreeDocument\":false,\"isSMPTE\":false,\"isCustomDenial\":false,\"persistentLink\":\"http://ieeexplore.ieee.org/servlet/opac?punumber=4159597\",\"isStaticHtml\":false,\"isNotDynamicOrStatic\":true,\"htmlAbstractLink\":\"/document/8268688/\",\"isPromo\":false,\"journalDisplayDateOfPublication\":\"25 January 2018\",\"chronOrPublicationDate\":\"2  2018\",\"isEphemera\":false,\"isOpenAccess\":false,\"isEarlyAccess\":false,\"isBook\":false,\"startPage\":\"3\",\"openAccessFlag\":\"no\",\"ephemeraFlag\":\"false\",\"title\":\"Review of constraints on vision-based gesture recognition for humanâ€“computer interaction\",\"confLoc\":\"\",\"accessionNumber\":\"\",\"ml_html_flag\":\"false\",\"html_flag\":\"false\",\"content_type\":\"Journals & Magazines\",\"mlTime\":\"PT0.17449S\",\"chronDate\":\"2  2018\",\"pdfPath\":\"/iel7/4159597/8268682/08268688.pdf\",\"isNumber\":\"8268682\",\"copyrightYear\":\"2007-2012\",\"dateOfInsertion\":\"25 January 2018\",\"contentType\":\"periodicals\",\"publicationDate\":\"2 2018\",\"publicationNumber\":\"4159597\",\"citationCount\":\"0\",\"copyrightOwner\":\"IET\",\"issue\":\"1\",\"articleId\":\"8268688\",\"publicationTitle\":\"IET Computer Vision\",\"sections\":{\"abstract\":\"true\",\"authors\":\"true\",\"figures\":\"false\",\"multimedia\":\"false\",\"references\":\"false\",\"citedby\":\"\",\"keywords\":\"true\",\"algorithm\":\"false\",\"supplements\":\"false\",\"footnotes\":\"false\",\"disclaimer\":\"false\"},\"volume\":\"12\",\"onlineDate\":\"\",\"conferenceDate\":\" \",\"publisher\":\"IET\",\"publicationYear\":\"2018\",\"subType\":\"IET IEE Periodical\",\"lastupdate\":\"2018-02-02T11:44:59\",\"mediaPath\":\"/mediastore/IEEE/content/media/4159597/8268682/8268688\",\"endPage\":\"15\",\"doi\":\"10.1049/iet-cvi.2017.0052\"', '\\n\\n\\n\\tglobal.document.userLoggedIn=true;\\n\\n\\n\\n\\n\\n\\n\\n']\n"
     ]
    }
   ],
   "source": [
    "J1 = data.split('global.document.metadata={')[1].split('};')\n",
    "print(J1)"
   ]
  },
  {
   "cell_type": "code",
   "execution_count": null,
   "metadata": {},
   "outputs": [],
   "source": [
    "file=open('newFile.json','w')\n",
    "file.write(str(J1[0]))\n",
    "file.close()"
   ]
  },
  {
   "cell_type": "code",
   "execution_count": null,
   "metadata": {},
   "outputs": [],
   "source": []
  },
  {
   "cell_type": "code",
   "execution_count": 55,
   "metadata": {},
   "outputs": [],
   "source": []
  },
  {
   "cell_type": "code",
   "execution_count": null,
   "metadata": {},
   "outputs": [],
   "source": []
  },
  {
   "cell_type": "code",
   "execution_count": null,
   "metadata": {
    "collapsed": true
   },
   "outputs": [],
   "source": []
  }
 ],
 "metadata": {
  "kernelspec": {
   "display_name": "Python 3",
   "language": "python",
   "name": "python3"
  },
  "language_info": {
   "codemirror_mode": {
    "name": "ipython",
    "version": 3
   },
   "file_extension": ".py",
   "mimetype": "text/x-python",
   "name": "python",
   "nbconvert_exporter": "python",
   "pygments_lexer": "ipython3",
   "version": "3.6.3"
  }
 },
 "nbformat": 4,
 "nbformat_minor": 2
}
